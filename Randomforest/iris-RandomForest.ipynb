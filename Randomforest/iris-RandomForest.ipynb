{
 "cells": [
  {
   "cell_type": "markdown",
   "id": "2a181cd3",
   "metadata": {},
   "source": [
    "### pyton 라이브러리를 활용한 머신러닝 \n",
    "- chapter 1.7 붓꽃 구분"
   ]
  },
  {
   "cell_type": "code",
   "execution_count": 9,
   "id": "3350a4bf",
   "metadata": {},
   "outputs": [],
   "source": [
    "from sklearn.datasets import load_iris\n",
    "iris_dataset = load_iris()"
   ]
  },
  {
   "cell_type": "markdown",
   "id": "c85869b0",
   "metadata": {},
   "source": [
    "- iris = 붓꽃"
   ]
  },
  {
   "cell_type": "code",
   "execution_count": 3,
   "id": "0ac6dcbd",
   "metadata": {},
   "outputs": [
    {
     "name": "stdout",
     "output_type": "stream",
     "text": [
      "iris_dataset의 키:\n",
      " dict_keys(['data', 'target', 'frame', 'target_names', 'DESCR', 'feature_names', 'filename', 'data_module'])\n"
     ]
    }
   ],
   "source": [
    "print(\"iris_dataset의 키:\\n\", iris_dataset.keys())"
   ]
  },
  {
   "cell_type": "markdown",
   "id": "b75badfd",
   "metadata": {},
   "source": [
    "- data들의 key"
   ]
  },
  {
   "cell_type": "code",
   "execution_count": 4,
   "id": "331f404a",
   "metadata": {},
   "outputs": [
    {
     "name": "stdout",
     "output_type": "stream",
     "text": [
      ".. _iris_dataset:\n",
      "\n",
      "Iris plants dataset\n",
      "--------------------\n",
      "\n",
      "**Data Set Characteristics:**\n",
      "\n",
      "    :Number of Instances: 150 (50 in each of three classes)\n",
      "    :Number of Attributes: 4 numeric, pre\n",
      "...\n"
     ]
    }
   ],
   "source": [
    "print(iris_dataset['DESCR'][:193]+\"\\n...\")"
   ]
  },
  {
   "cell_type": "markdown",
   "id": "0ce521fa",
   "metadata": {},
   "source": [
    "- DESCR은 간단한 데이터들의 소개를 하는 명령어"
   ]
  },
  {
   "cell_type": "code",
   "execution_count": 5,
   "id": "ad3f7443",
   "metadata": {},
   "outputs": [
    {
     "name": "stdout",
     "output_type": "stream",
     "text": [
      "타깃의 이름 ['setosa' 'versicolor' 'virginica']\n"
     ]
    }
   ],
   "source": [
    "print(\"타깃의 이름\",iris_dataset[\"target_names\"])"
   ]
  },
  {
   "cell_type": "markdown",
   "id": "4e252c12",
   "metadata": {},
   "source": [
    "- 우리가 예측하고자 하는 target의 이름"
   ]
  },
  {
   "cell_type": "code",
   "execution_count": 6,
   "id": "5b42ace4",
   "metadata": {
    "scrolled": true
   },
   "outputs": [
    {
     "name": "stdout",
     "output_type": "stream",
     "text": [
      "특성의 이름:\n",
      " ['sepal length (cm)', 'sepal width (cm)', 'petal length (cm)', 'petal width (cm)']\n"
     ]
    }
   ],
   "source": [
    "print(\"특성의 이름:\\n\",iris_dataset['feature_names'])"
   ]
  },
  {
   "cell_type": "markdown",
   "id": "e52b891c",
   "metadata": {},
   "source": [
    "- 그 타겟들이 갖고 있는 특성들"
   ]
  },
  {
   "cell_type": "code",
   "execution_count": 7,
   "id": "59393a45",
   "metadata": {
    "scrolled": true
   },
   "outputs": [
    {
     "name": "stdout",
     "output_type": "stream",
     "text": [
      "data의 타입: <class 'numpy.ndarray'>\n"
     ]
    }
   ],
   "source": [
    "print(\"data의 타입:\",type(iris_dataset['data']))"
   ]
  },
  {
   "cell_type": "markdown",
   "id": "19bc5848",
   "metadata": {},
   "source": [
    "- data type"
   ]
  },
  {
   "cell_type": "code",
   "execution_count": 8,
   "id": "5ace468c",
   "metadata": {},
   "outputs": [
    {
     "name": "stdout",
     "output_type": "stream",
     "text": [
      "data의 크기 (150, 4)\n"
     ]
    }
   ],
   "source": [
    "print(\"data의 크기\",iris_dataset['data'].shape)"
   ]
  },
  {
   "cell_type": "markdown",
   "id": "60fb1ccb",
   "metadata": {},
   "source": [
    "- datasize"
   ]
  },
  {
   "cell_type": "code",
   "execution_count": null,
   "id": "d2dd163b",
   "metadata": {},
   "outputs": [],
   "source": [
    "`"
   ]
  }
 ],
 "metadata": {
  "kernelspec": {
   "display_name": "Python 3 (ipykernel)",
   "language": "python",
   "name": "python3"
  },
  "language_info": {
   "codemirror_mode": {
    "name": "ipython",
    "version": 3
   },
   "file_extension": ".py",
   "mimetype": "text/x-python",
   "name": "python",
   "nbconvert_exporter": "python",
   "pygments_lexer": "ipython3",
   "version": "3.9.13"
  }
 },
 "nbformat": 4,
 "nbformat_minor": 5
}
